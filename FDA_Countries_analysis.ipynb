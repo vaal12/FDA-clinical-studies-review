{
 "cells": [
  {
   "cell_type": "markdown",
   "metadata": {
    "extensions": {
     "jupyter_dashboards": {
      "version": 1,
      "views": {
       "grid_default": {},
       "report_default": {
        "hidden": false
       }
      }
     }
    }
   },
   "source": [
    "### Table of content\n",
    "- <a href=\"#Clinical-trials-by-country-distribution\">Clinical trials by country distribution (pie chart)</a>\n",
    "- <a href=\"#Clinical-trials-by-country-(Sep-2018)\">Clinical trials by country distribution (world map)</a>"
   ]
  },
  {
   "cell_type": "code",
   "execution_count": 1,
   "metadata": {
    "extensions": {
     "jupyter_dashboards": {
      "version": 1,
      "views": {
       "grid_default": {},
       "report_default": {
        "hidden": true
       }
      }
     }
    }
   },
   "outputs": [],
   "source": [
    "import pandas as pd\n",
    "import numpy as np\n",
    "import matplotlib.pyplot as plt\n",
    "# %matplotlib notebook\n",
    "%matplotlib inline"
   ]
  },
  {
   "cell_type": "code",
   "execution_count": 2,
   "metadata": {
    "extensions": {
     "jupyter_dashboards": {
      "version": 1,
      "views": {
       "grid_default": {},
       "report_default": {
        "hidden": true
       }
      }
     }
    }
   },
   "outputs": [],
   "source": [
    "countries_full_df = pd.read_csv(\n",
    "    r\"c:\\Dev\\04. Python\\03. XML converter of FDA list\\goodDB\\04. 2018Sep17_13-28-24\\FDA_DB_COUNTRY_LOC_TABLE_2018Sep17_13-28-24.csv\")"
   ]
  },
  {
   "cell_type": "code",
   "execution_count": 3,
   "metadata": {
    "extensions": {
     "jupyter_dashboards": {
      "version": 1,
      "views": {
       "grid_default": {},
       "report_default": {
        "hidden": true
       }
      }
     }
    }
   },
   "outputs": [],
   "source": [
    "#Data cleaning\n",
    "countries_full_df['country'][countries_full_df['country'] == \"United States\"] = \"United States of America\"\n",
    "countries_full_df['country'][countries_full_df['country'] == \"Congo, The Democratic Republic of the\"] = \"Congo\"\n",
    "countries_full_df['country'][countries_full_df['country'] == \"Czech Republic\"] = \"Czechia\""
   ]
  },
  {
   "cell_type": "code",
   "execution_count": 4,
   "metadata": {},
   "outputs": [],
   "source": [
    "#This is to look for countries which may not be present in the dataset\n",
    "# westernSakhara_DF = pd.DataFrame(countries_full_df[countries_full_df[\"country\"].str.lower().str.contains(\"stan\")])\n",
    "# westernSakhara_DF.groupby(\"country\").count()"
   ]
  },
  {
   "cell_type": "code",
   "execution_count": 5,
   "metadata": {
    "extensions": {
     "jupyter_dashboards": {
      "version": 1,
      "views": {
       "grid_default": {},
       "report_default": {
        "hidden": true
       }
      }
     }
    }
   },
   "outputs": [],
   "source": [
    "counted_countries = countries_full_df.groupby('country').count()"
   ]
  },
  {
   "cell_type": "code",
   "execution_count": 6,
   "metadata": {
    "extensions": {
     "jupyter_dashboards": {
      "version": 1,
      "views": {
       "grid_default": {},
       "report_default": {
        "hidden": false
       }
      }
     }
    },
    "scrolled": false
   },
   "outputs": [
    {
     "name": "stdout",
     "output_type": "stream",
     "text": [
      "Max value:114420\n",
      "Min value:1\n",
      "Series Length = 203\n",
      "Ideal bucket len:25\n",
      "Bucket value counts:[27, 25, 24, 25, 24, 24, 24, 24, 6]\n"
     ]
    }
   ],
   "source": [
    "%run -i create_uniform_buckets.py \n",
    "bucketsArray = createUniformBucketsFromSeries(pd.Series(counted_countries.nct_id), numberOfBuckets=8)"
   ]
  },
  {
   "cell_type": "code",
   "execution_count": 7,
   "metadata": {
    "extensions": {
     "jupyter_dashboards": {
      "version": 1,
      "views": {
       "grid_default": {},
       "report_default": {
        "hidden": false
       }
      }
     }
    }
   },
   "outputs": [
    {
     "name": "stdout",
     "output_type": "stream",
     "text": [
      "United States of America\n",
      "max:114420\n",
      "min:1\n",
      "144\n"
     ]
    }
   ],
   "source": [
    "sorted_counted_countries = pd.DataFrame(counted_countries.sort_values(by=\"nct_id\", ascending=False))\n",
    "#Have to make index correct - so it is not resolved to United States Minor Outlying Islands\n",
    "#In dataset it is just \"United States\"\n",
    "#http://cmdlinetips.com/2018/03/how-to-change-column-names-and-row-indexes-in-pandas/\n",
    "first_index = sorted_counted_countries.index[0]\n",
    "print(first_index)\n",
    "sorted_counted_countries.rename(index={first_index:\"United States of America\"}, inplace=True)\n",
    "\n",
    "maxCountryCount = sorted_counted_countries.nct_id.max()\n",
    "print(\"max:\"+str(maxCountryCount))\n",
    "minCountryCount = sorted_counted_countries.nct_id.min()\n",
    "print(\"min:\"+str(minCountryCount))\n",
    "print(str(len(sorted_counted_countries.groupby(\"nct_id\"))))\n",
    "# sorted_counted_countries.head()"
   ]
  },
  {
   "cell_type": "markdown",
   "metadata": {
    "extensions": {
     "jupyter_dashboards": {
      "version": 1,
      "views": {
       "grid_default": {},
       "report_default": {
        "hidden": false
       }
      }
     }
    }
   },
   "source": [
    "# Clinical trials by country distribution\n",
    "<a href=\"#Content\">Table of content</a>"
   ]
  },
  {
   "cell_type": "code",
   "execution_count": 8,
   "metadata": {
    "extensions": {
     "jupyter_dashboards": {
      "version": 1,
      "views": {
       "grid_default": {},
       "report_default": {
        "hidden": false
       }
      }
     }
    },
    "scrolled": false
   },
   "outputs": [
    {
     "data": {
      "application/vnd.jupyter.widget-view+json": {
       "model_id": "87fdbf3131414afc91d1fe1e08b8e77d",
       "version_major": 2,
       "version_minor": 0
      },
      "text/plain": [
       "interactive(children=(IntSlider(value=20000, description='threshold', max=60000, step=1000), Output()), _dom_c…"
      ]
     },
     "metadata": {},
     "output_type": "display_data"
    }
   ],
   "source": [
    "FILTER_THRESHOLD = 10000\n",
    "\n",
    "from __future__ import print_function\n",
    "from ipywidgets import interact, interactive, fixed, interact_manual\n",
    "import ipywidgets as widgets\n",
    "\n",
    "COUNTRY_LABEL_FONT_SIZE = 8\n",
    "\n",
    "def updateGraphBasedOnThreshold(threshold):\n",
    "    print(\"Threshold:{}\".format(threshold))\n",
    "    \n",
    "    FILTER_THRESHOLD = threshold\n",
    "    \n",
    "    sum_of_all_countries = sorted_counted_countries.nct_id.sum()\n",
    "    print(\"Sum of all countries:{}\".format(sum_of_all_countries))\n",
    "\n",
    "    sum_of_none = sorted_counted_countries.loc[\"**None**\", \"nct_id\"]\n",
    "    print(\"Sum of none:{}\".format(sum_of_none))\n",
    "    sum_of_all_countries_below_threshold = sorted_counted_countries[sorted_counted_countries.nct_id<FILTER_THRESHOLD].nct_id.sum()\n",
    "    print(\"sum_of_all_countries_below_threshold:{}\".format(sum_of_all_countries_below_threshold))\n",
    "\n",
    "    other_name = \"Other(<\"+str(FILTER_THRESHOLD)+\" studies per country)\"\n",
    "    countryListWithNone = pd.DataFrame(sorted_counted_countries[sorted_counted_countries.nct_id>=FILTER_THRESHOLD])\n",
    "    countryListWithNone.loc[other_name] = sum_of_all_countries - countryListWithNone.nct_id.sum()\n",
    "\n",
    "    countryListWithoutNone = pd.DataFrame(countryListWithNone[countryListWithNone.index != \"**None**\"])\n",
    "\n",
    "    countryListWithoutNoneWithouOther = pd.DataFrame(countryListWithoutNone[countryListWithoutNone.index != other_name])\n",
    "    \n",
    "    \n",
    "    #PLOTTING\n",
    "    \n",
    "    fig = plt.figure(figsize=(12, 10))\n",
    "    fig.suptitle(\"Clinical trials by country distribution\", fontsize=16)\n",
    "    plt.subplot(221)\n",
    "    patches, texts, autotexts = plt.pie(countryListWithNone.nct_id, \n",
    "            explode = list(np.zeros(len(countryListWithNone))+0.1), \n",
    "            labels=countryListWithNone.index, \n",
    "            autopct='%1.1f%%',\n",
    "            shadow=False, startangle=90)\n",
    "     \n",
    "    for txt in texts:\n",
    "        txt.set_fontsize(COUNTRY_LABEL_FONT_SIZE)\n",
    "    plt.title(\"incl. studies with no country specified\")\n",
    "    plt.axis('equal')\n",
    "\n",
    "\n",
    "    plt.subplot(222)\n",
    "    plt.title(\"excl. studies with no country specified\")\n",
    "    patches, texts, autotexts = plt.pie(countryListWithoutNone.nct_id, \n",
    "            explode = list(np.zeros(len(countryListWithoutNone))+0.1), \n",
    "            labels=countryListWithoutNone.index, \n",
    "            autopct='%1.1f%%',\n",
    "            shadow=False, startangle=90)\n",
    "    for txt in texts:\n",
    "        txt.set_fontsize(COUNTRY_LABEL_FONT_SIZE)\n",
    "    plt.axis('equal')\n",
    "\n",
    "\n",
    "    plt.subplot(223)\n",
    "    patches, texts, autotexts = plt.pie(countryListWithoutNoneWithouOther.nct_id, \n",
    "            explode = list(np.zeros(len(countryListWithoutNoneWithouOther))+0.1), \n",
    "            labels=countryListWithoutNoneWithouOther.index, \n",
    "            autopct='%1.1f%%',\n",
    "            shadow=False, startangle=90)\n",
    "    for txt in texts:\n",
    "        txt.set_fontsize(COUNTRY_LABEL_FONT_SIZE)\n",
    "    plt.axis('equal')\n",
    "    plt.title(\"countries above threshold \\n({}, excluding 'no country')\".format(FILTER_THRESHOLD))\n",
    "    \n",
    "    plt.show()\n",
    "    \n",
    "    fig.savefig(\"pieCharts.png\")\n",
    "    \n",
    "    return None\n",
    "\n",
    "interact(updateGraphBasedOnThreshold, threshold=widgets.IntSlider(min=0,max=60000,step=1000,value=20000));\n",
    "# updateGraphBasedOnThreshold(10000)"
   ]
  },
  {
   "cell_type": "code",
   "execution_count": 9,
   "metadata": {},
   "outputs": [
    {
     "data": {
      "image/png": "[encoded data removed]",
      "text/plain": [
       "<IPython.core.display.Image object>"
      ]
     },
     "execution_count": 9,
     "metadata": {},
     "output_type": "execute_result"
    }
   ],
   "source": [
    "from IPython.display import Image\n",
    "Image(\"pieCharts.png\")"
   ]
  },
  {
   "cell_type": "code",
   "execution_count": 10,
   "metadata": {
    "extensions": {
     "jupyter_dashboards": {
      "version": 1,
      "views": {
       "grid_default": {},
       "report_default": {
        "hidden": false
       }
      }
     }
    }
   },
   "outputs": [
    {
     "data": {
      "text/plain": [
       "<Figure size 432x288 with 0 Axes>"
      ]
     },
     "metadata": {},
     "output_type": "display_data"
    }
   ],
   "source": [
    "%run country_codes_conversion.py \n",
    "for row in sorted_counted_countries.index:\n",
    "    iso2digitCode = get2ISOcodeFromCountryName(row)\n",
    "    sorted_counted_countries.loc[row, \"iso2\"] = str(iso2digitCode)\n",
    "pass"
   ]
  },
  {
   "cell_type": "code",
   "execution_count": 11,
   "metadata": {
    "extensions": {
     "jupyter_dashboards": {
      "version": 1,
      "views": {
       "grid_default": {},
       "report_default": {
        "hidden": false
       }
      }
     }
    }
   },
   "outputs": [
    {
     "data": {
      "text/html": [
       "<div>\n",
       "<style scoped>\n",
       "    .dataframe tbody tr th:only-of-type {\n",
       "        vertical-align: middle;\n",
       "    }\n",
       "\n",
       "    .dataframe tbody tr th {\n",
       "        vertical-align: top;\n",
       "    }\n",
       "\n",
       "    .dataframe thead th {\n",
       "        text-align: right;\n",
       "    }\n",
       "</style>\n",
       "<table border=\"1\" class=\"dataframe\">\n",
       "  <thead>\n",
       "    <tr style=\"text-align: right;\">\n",
       "      <th></th>\n",
       "      <th>nct_id</th>\n",
       "      <th>iso2</th>\n",
       "    </tr>\n",
       "    <tr>\n",
       "      <th>country</th>\n",
       "      <th></th>\n",
       "      <th></th>\n",
       "    </tr>\n",
       "  </thead>\n",
       "  <tbody>\n",
       "  </tbody>\n",
       "</table>\n",
       "</div>"
      ],
      "text/plain": [
       "Empty DataFrame\n",
       "Columns: [nct_id, iso2]\n",
       "Index: []"
      ]
     },
     "execution_count": 11,
     "metadata": {},
     "output_type": "execute_result"
    }
   ],
   "source": [
    "sorted_counted_countries.loc[sorted_counted_countries.iso2=='CZ']"
   ]
  },
  {
   "cell_type": "code",
   "execution_count": 12,
   "metadata": {
    "extensions": {
     "jupyter_dashboards": {
      "version": 1,
      "views": {
       "grid_default": {},
       "report_default": {
        "hidden": false
       }
      }
     }
    }
   },
   "outputs": [
    {
     "data": {
      "text/html": [
       "<div>\n",
       "<style scoped>\n",
       "    .dataframe tbody tr th:only-of-type {\n",
       "        vertical-align: middle;\n",
       "    }\n",
       "\n",
       "    .dataframe tbody tr th {\n",
       "        vertical-align: top;\n",
       "    }\n",
       "\n",
       "    .dataframe thead th {\n",
       "        text-align: right;\n",
       "    }\n",
       "</style>\n",
       "<table border=\"1\" class=\"dataframe\">\n",
       "  <thead>\n",
       "    <tr style=\"text-align: right;\">\n",
       "      <th></th>\n",
       "      <th>nct_id</th>\n",
       "    </tr>\n",
       "    <tr>\n",
       "      <th>iso2</th>\n",
       "      <th></th>\n",
       "    </tr>\n",
       "  </thead>\n",
       "  <tbody>\n",
       "    <tr>\n",
       "      <th>ad</th>\n",
       "      <td>1</td>\n",
       "    </tr>\n",
       "    <tr>\n",
       "      <th>no_code_former serbia and montenegro</th>\n",
       "      <td>1</td>\n",
       "    </tr>\n",
       "    <tr>\n",
       "      <th>my</th>\n",
       "      <td>1</td>\n",
       "    </tr>\n",
       "    <tr>\n",
       "      <th>mz</th>\n",
       "      <td>1</td>\n",
       "    </tr>\n",
       "    <tr>\n",
       "      <th>na</th>\n",
       "      <td>1</td>\n",
       "    </tr>\n",
       "  </tbody>\n",
       "</table>\n",
       "</div>"
      ],
      "text/plain": [
       "                                      nct_id\n",
       "iso2                                        \n",
       "ad                                         1\n",
       "no_code_former serbia and montenegro       1\n",
       "my                                         1\n",
       "mz                                         1\n",
       "na                                         1"
      ]
     },
     "execution_count": 12,
     "metadata": {},
     "output_type": "execute_result"
    }
   ],
   "source": [
    "iso2_check_for_duplicates = pd.DataFrame(sorted_counted_countries.groupby(by=\"iso2\").count()).sort_values(by=\"nct_id\", ascending=False)\n",
    "#All should be 1s (no 2s - those are duplicates)\n",
    "iso2_check_for_duplicates.head()"
   ]
  },
  {
   "cell_type": "code",
   "execution_count": 23,
   "metadata": {
    "extensions": {
     "jupyter_dashboards": {
      "version": 1,
      "views": {
       "grid_default": {},
       "report_default": {
        "hidden": true
       }
      }
     }
    }
   },
   "outputs": [
    {
     "data": {
      "text/html": [
       "<div>\n",
       "<style scoped>\n",
       "    .dataframe tbody tr th:only-of-type {\n",
       "        vertical-align: middle;\n",
       "    }\n",
       "\n",
       "    .dataframe tbody tr th {\n",
       "        vertical-align: top;\n",
       "    }\n",
       "\n",
       "    .dataframe thead th {\n",
       "        text-align: right;\n",
       "    }\n",
       "</style>\n",
       "<table border=\"1\" class=\"dataframe\">\n",
       "  <thead>\n",
       "    <tr style=\"text-align: right;\">\n",
       "      <th></th>\n",
       "      <th>nct_id_count</th>\n",
       "      <th>iso2</th>\n",
       "      <th>full_country_name</th>\n",
       "    </tr>\n",
       "    <tr>\n",
       "      <th>country</th>\n",
       "      <th></th>\n",
       "      <th></th>\n",
       "      <th></th>\n",
       "    </tr>\n",
       "  </thead>\n",
       "  <tbody>\n",
       "    <tr>\n",
       "      <th>United States of America</th>\n",
       "      <td>114420</td>\n",
       "      <td>us</td>\n",
       "      <td>United States of America</td>\n",
       "    </tr>\n",
       "    <tr>\n",
       "      <th>**None**</th>\n",
       "      <td>33652</td>\n",
       "      <td>no_code_**none**</td>\n",
       "      <td>**None**</td>\n",
       "    </tr>\n",
       "    <tr>\n",
       "      <th>France</th>\n",
       "      <td>20464</td>\n",
       "      <td>fr</td>\n",
       "      <td>France</td>\n",
       "    </tr>\n",
       "    <tr>\n",
       "      <th>Canada</th>\n",
       "      <td>18965</td>\n",
       "      <td>ca</td>\n",
       "      <td>Canada</td>\n",
       "    </tr>\n",
       "    <tr>\n",
       "      <th>Germany</th>\n",
       "      <td>17464</td>\n",
       "      <td>de</td>\n",
       "      <td>Germany</td>\n",
       "    </tr>\n",
       "  </tbody>\n",
       "</table>\n",
       "</div>"
      ],
      "text/plain": [
       "                          nct_id_count              iso2  \\\n",
       "country                                                    \n",
       "United States of America        114420                us   \n",
       "**None**                         33652  no_code_**none**   \n",
       "France                           20464                fr   \n",
       "Canada                           18965                ca   \n",
       "Germany                          17464                de   \n",
       "\n",
       "                                 full_country_name  \n",
       "country                                             \n",
       "United States of America  United States of America  \n",
       "**None**                                  **None**  \n",
       "France                                      France  \n",
       "Canada                                      Canada  \n",
       "Germany                                    Germany  "
      ]
     },
     "execution_count": 23,
     "metadata": {},
     "output_type": "execute_result"
    }
   ],
   "source": [
    "exportDF = pd.DataFrame(sorted_counted_countries)\n",
    "#CLEANING BEFORE EXPORTING TO JSON\n",
    "exportDF[\"full_country_name\"] = exportDF.index\n",
    "exportDF.rename(columns={\"nct_id\":\"nct_id_count\"}, inplace=True)\n",
    "exportDF.head()"
   ]
  },
  {
   "cell_type": "code",
   "execution_count": 28,
   "metadata": {},
   "outputs": [
    {
     "data": {
      "text/html": [
       "<div>\n",
       "<style scoped>\n",
       "    .dataframe tbody tr th:only-of-type {\n",
       "        vertical-align: middle;\n",
       "    }\n",
       "\n",
       "    .dataframe tbody tr th {\n",
       "        vertical-align: top;\n",
       "    }\n",
       "\n",
       "    .dataframe thead th {\n",
       "        text-align: right;\n",
       "    }\n",
       "</style>\n",
       "<table border=\"1\" class=\"dataframe\">\n",
       "  <thead>\n",
       "    <tr style=\"text-align: right;\">\n",
       "      <th></th>\n",
       "      <th>nct_id_count</th>\n",
       "      <th>full_country_name</th>\n",
       "    </tr>\n",
       "    <tr>\n",
       "      <th>iso2</th>\n",
       "      <th></th>\n",
       "      <th></th>\n",
       "    </tr>\n",
       "  </thead>\n",
       "  <tbody>\n",
       "    <tr>\n",
       "      <th>us</th>\n",
       "      <td>114420</td>\n",
       "      <td>United States of America</td>\n",
       "    </tr>\n",
       "    <tr>\n",
       "      <th>no_code_**none**</th>\n",
       "      <td>33652</td>\n",
       "      <td>**None**</td>\n",
       "    </tr>\n",
       "    <tr>\n",
       "      <th>fr</th>\n",
       "      <td>20464</td>\n",
       "      <td>France</td>\n",
       "    </tr>\n",
       "    <tr>\n",
       "      <th>ca</th>\n",
       "      <td>18965</td>\n",
       "      <td>Canada</td>\n",
       "    </tr>\n",
       "    <tr>\n",
       "      <th>de</th>\n",
       "      <td>17464</td>\n",
       "      <td>Germany</td>\n",
       "    </tr>\n",
       "  </tbody>\n",
       "</table>\n",
       "</div>"
      ],
      "text/plain": [
       "                  nct_id_count         full_country_name\n",
       "iso2                                                    \n",
       "us                      114420  United States of America\n",
       "no_code_**none**         33652                  **None**\n",
       "fr                       20464                    France\n",
       "ca                       18965                    Canada\n",
       "de                       17464                   Germany"
      ]
     },
     "execution_count": 28,
     "metadata": {},
     "output_type": "execute_result"
    }
   ],
   "source": [
    "exportDF2 = pd.DataFrame(exportDF).set_index(\"iso2\")\n",
    "# exportDF.to_csv(r\"c:\\Dev\\05. Jupyter\\2. FDA countries clean\\csv\\countries_trials_28Oct.csv\")\n",
    "\n",
    "# exportDF2.\n",
    "exportDF2.to_json(r\"c:\\Dev\\05. Jupyter\\2. FDA countries clean\\csv\\countries_trials_28Oct.json\", \n",
    "                 orient=\"index\",\n",
    "                 \n",
    "                )\n",
    "#json beautifier: https://codebeautify.org/jsonviewer\n",
    "exportDF2.head()"
   ]
  },
  {
   "cell_type": "code",
   "execution_count": 17,
   "metadata": {},
   "outputs": [],
   "source": [
    "#https://stackoverflow.com/questions/32714783/ipython-run-all-cells-below-from-a-widget\n",
    "from IPython.display import Javascript, display\n",
    "def run_cells_below():\n",
    "    display(Javascript('IPython.notebook.execute_cells_below()'))"
   ]
  },
  {
   "cell_type": "code",
   "execution_count": 15,
   "metadata": {
    "extensions": {
     "jupyter_dashboards": {
      "version": 1,
      "views": {
       "grid_default": {},
       "report_default": {
        "hidden": true
       }
      }
     }
    },
    "scrolled": false
   },
   "outputs": [
    {
     "ename": "FileNotFoundError",
     "evalue": "[Errno 2] No such file or directory: 'world-map_20Sep2018.svg'",
     "output_type": "error",
     "traceback": [
      "\u001b[1;31m---------------------------------------------------------------------------\u001b[0m",
      "\u001b[1;31mFileNotFoundError\u001b[0m                         Traceback (most recent call last)",
      "\u001b[1;32mc:\\Dev\\05. Jupyter\\2. FDA countries clean\\transformSVG.py\u001b[0m in \u001b[0;36m<module>\u001b[1;34m()\u001b[0m\n\u001b[0;32m      1\u001b[0m \u001b[0mget_ipython\u001b[0m\u001b[1;33m(\u001b[0m\u001b[1;33m)\u001b[0m\u001b[1;33m.\u001b[0m\u001b[0mrun_line_magic\u001b[0m\u001b[1;33m(\u001b[0m\u001b[1;34m'run'\u001b[0m\u001b[1;33m,\u001b[0m \u001b[1;34m'-i transformSVG.py'\u001b[0m\u001b[1;33m)\u001b[0m\u001b[1;33m\u001b[0m\u001b[0m\n\u001b[0;32m      2\u001b[0m \u001b[1;33m\u001b[0m\u001b[0m\n\u001b[1;32m----> 3\u001b[1;33m \u001b[0msvgConverted\u001b[0m \u001b[1;33m=\u001b[0m \u001b[0mtransformCountrySVG\u001b[0m\u001b[1;33m(\u001b[0m\u001b[0mexportDF\u001b[0m\u001b[1;33m,\u001b[0m \u001b[0mbucketsArray\u001b[0m\u001b[1;33m,\u001b[0m                                    \u001b[1;33m[\u001b[0m \u001b[1;34m\"#d73027\"\u001b[0m\u001b[1;33m,\u001b[0m \u001b[1;34m\"#f46d43\"\u001b[0m\u001b[1;33m,\u001b[0m \u001b[1;34m\"#fdae61\"\u001b[0m\u001b[1;33m,\u001b[0m \u001b[1;34m\"#fee090\"\u001b[0m\u001b[1;33m,\u001b[0m \u001b[1;34m\"#ffffbf\"\u001b[0m\u001b[1;33m,\u001b[0m \u001b[1;34m\"#e0f3f8\"\u001b[0m\u001b[1;33m,\u001b[0m                                     \u001b[1;34m\"#abd9e9\"\u001b[0m\u001b[1;33m,\u001b[0m \u001b[1;34m\"#74add1\"\u001b[0m\u001b[1;33m,\u001b[0m \u001b[1;34m\"#4575b4\"\u001b[0m\u001b[1;33m]\u001b[0m                  \u001b[1;33m)\u001b[0m\u001b[1;33m\u001b[0m\u001b[0m\n\u001b[0m\u001b[0;32m      4\u001b[0m \u001b[0mrun_cells_below\u001b[0m\u001b[1;33m(\u001b[0m\u001b[1;33m)\u001b[0m\u001b[1;33m\u001b[0m\u001b[0m\n",
      "\u001b[1;32mc:\\Dev\\05. Jupyter\\2. FDA countries clean\\transformSVG.py\u001b[0m in \u001b[0;36mtransformCountrySVG\u001b[1;34m(countriesListDF, bucketsArray, colorArray)\u001b[0m\n\u001b[0;32m     10\u001b[0m \u001b[1;32mdef\u001b[0m \u001b[0mtransformCountrySVG\u001b[0m\u001b[1;33m(\u001b[0m\u001b[0mcountriesListDF\u001b[0m\u001b[1;33m,\u001b[0m \u001b[0mbucketsArray\u001b[0m\u001b[1;33m,\u001b[0m \u001b[0mcolorArray\u001b[0m\u001b[1;33m)\u001b[0m\u001b[1;33m:\u001b[0m\u001b[1;33m\u001b[0m\u001b[0m\n\u001b[0;32m     11\u001b[0m     \u001b[1;31m# print(\"Buckets array:{}\".format(bucketsArray))\u001b[0m\u001b[1;33m\u001b[0m\u001b[1;33m\u001b[0m\u001b[0m\n\u001b[1;32m---> 12\u001b[1;33m     \u001b[1;32mwith\u001b[0m \u001b[0mopen\u001b[0m\u001b[1;33m(\u001b[0m\u001b[1;34m\"world-map_20Sep2018.svg\"\u001b[0m\u001b[1;33m)\u001b[0m \u001b[1;32mas\u001b[0m \u001b[0mfp\u001b[0m\u001b[1;33m:\u001b[0m\u001b[1;33m\u001b[0m\u001b[0m\n\u001b[0m\u001b[0;32m     13\u001b[0m         \u001b[1;31m#XML is needed as html.parser does something unspeakable to the code\u001b[0m\u001b[1;33m\u001b[0m\u001b[1;33m\u001b[0m\u001b[0m\n\u001b[0;32m     14\u001b[0m         \u001b[0msoup\u001b[0m \u001b[1;33m=\u001b[0m \u001b[0mBeautifulSoup\u001b[0m\u001b[1;33m(\u001b[0m\u001b[0mfp\u001b[0m\u001b[1;33m,\u001b[0m \u001b[0mfeatures\u001b[0m\u001b[1;33m=\u001b[0m\u001b[1;34m\"xml\"\u001b[0m\u001b[1;33m)\u001b[0m \u001b[1;31m#, features=\"html5\" \"html.parser\", \"lxml\"\u001b[0m\u001b[1;33m\u001b[0m\u001b[0m\n",
      "\u001b[1;31mFileNotFoundError\u001b[0m: [Errno 2] No such file or directory: 'world-map_20Sep2018.svg'"
     ]
    }
   ],
   "source": [
    "%run -i transformSVG.py \n",
    "\n",
    "svgConverted = transformCountrySVG(exportDF, bucketsArray,  \\\n",
    "                                  [ \"#d73027\", \"#f46d43\", \"#fdae61\", \"#fee090\", \"#ffffbf\", \"#e0f3f8\", \\\n",
    "                                    \"#abd9e9\", \"#74add1\", \"#4575b4\"]  \\\n",
    "                )\n",
    "run_cells_below()"
   ]
  },
  {
   "cell_type": "markdown",
   "metadata": {
    "extensions": {
     "jupyter_dashboards": {
      "version": 1,
      "views": {
       "grid_default": {},
       "report_default": {
        "hidden": false
       }
      }
     }
    }
   },
   "source": [
    "# Clinical trials by country (Sep 2018)\n",
    "<a href=\"#Content\">Table of content</a>"
   ]
  },
  {
   "cell_type": "code",
   "execution_count": null,
   "metadata": {
    "extensions": {
     "jupyter_dashboards": {
      "version": 1,
      "views": {
       "grid_default": {},
       "report_default": {
        "hidden": false
       }
      }
     }
    }
   },
   "outputs": [],
   "source": [
    "from IPython.core.display import display, HTML, DisplayObject\n",
    "from IPython.display import SVG\n",
    "SVG(svgConverted)"
   ]
  }
 ],
 "metadata": {
  "extensions": {
   "jupyter_dashboards": {
    "activeView": "report_default",
    "version": 1,
    "views": {
     "grid_default": {
      "name": "grid",
      "type": "grid"
     },
     "report_default": {
      "name": "report",
      "type": "report"
     }
    }
   }
  },
  "kernelspec": {
   "display_name": "Python 3",
   "language": "python",
   "name": "python3"
  },
  "language_info": {
   "codemirror_mode": {
    "name": "ipython",
    "version": 3
   },
   "file_extension": ".py",
   "mimetype": "text/x-python",
   "name": "python",
   "nbconvert_exporter": "python",
   "pygments_lexer": "ipython3",
   "version": "3.7.0"
  }
 },
 "nbformat": 4,
 "nbformat_minor": 2
}
